{
 "cells": [
  {
   "cell_type": "code",
   "execution_count": 4,
   "id": "905cc80f-7008-419c-a2e6-789af880f3a1",
   "metadata": {},
   "outputs": [
    {
     "name": "stdout",
     "output_type": "stream",
     "text": [
      "   TransactionID TransactionDate  UserID  ProductID  Quantity\n",
      "5              6      2013-12-23     2.0          5         6\n",
      "6              7      2013-12-30     3.0          4         1\n",
      "7              8      2014-04-24     NaN          2         3\n",
      "8              9      2015-04-24     7.0          4         3\n",
      "9             10      2016-05-08     3.0          4         4\n"
     ]
    }
   ],
   "source": [
    "import pandas as pd\n",
    "df = pd.read_csv(\"transactions.csv\")\n",
    "print(df.tail())"
   ]
  },
  {
   "cell_type": "markdown",
   "id": "7b65682f-c6bb-4c5a-9e74-02e42f51dc65",
   "metadata": {},
   "source": [
    "# 1st Question"
   ]
  },
  {
   "cell_type": "code",
   "execution_count": 3,
   "id": "c654f8f7-5d37-49e2-89d3-a6e9c799128d",
   "metadata": {},
   "outputs": [
    {
     "name": "stdout",
     "output_type": "stream",
     "text": [
      "       TransactionID    UserID  ProductID   Quantity\n",
      "count       10.00000  9.000000  10.000000  10.000000\n",
      "mean         5.50000  3.444444   3.400000   2.400000\n",
      "std          3.02765  2.127858   1.074968   1.712698\n",
      "min          1.00000  1.000000   2.000000   1.000000\n",
      "25%          3.25000  2.000000   2.250000   1.000000\n",
      "50%          5.50000  3.000000   4.000000   2.000000\n",
      "75%          7.75000  3.000000   4.000000   3.000000\n",
      "max         10.00000  7.000000   5.000000   6.000000\n"
     ]
    }
   ],
   "source": [
    "import pandas as pd\n",
    "df = pd.read_csv(\"transactions.csv\")\n",
    "print(df.describe())"
   ]
  },
  {
   "cell_type": "code",
   "execution_count": 5,
   "id": "cce8e596-c7b0-47de-8ed8-579df77106d9",
   "metadata": {},
   "outputs": [
    {
     "name": "stdout",
     "output_type": "stream",
     "text": [
      "   TransactionID TransactionDate  UserID  ProductID  Quantity\n",
      "9             10      2016-05-08     3.0          4         4\n"
     ]
    }
   ],
   "source": [
    "import pandas as pd\n",
    "df = pd.read_csv(\"transactions.csv\")\n",
    "print(df.tail(1))"
   ]
  },
  {
   "cell_type": "code",
   "execution_count": 8,
   "id": "7c0b3442-4e41-4adb-9520-e0a008f2358c",
   "metadata": {},
   "outputs": [
    {
     "name": "stdout",
     "output_type": "stream",
     "text": [
      "   TransactionID TransactionDate  UserID  ProductID  Quant\n",
      "0              1      2010-08-21     7.0          2      1\n",
      "1              2      2011-05-26     3.0          4      1\n",
      "2              3      2011-06-16     3.0          3      1\n",
      "3              4      2012-08-26     1.0          2      3\n",
      "4              5      2013-06-06     2.0          4      1\n",
      "5              6      2013-12-23     2.0          5      6\n",
      "6              7      2013-12-30     3.0          4      1\n",
      "7              8      2014-04-24     NaN          2      3\n",
      "8              9      2015-04-24     7.0          4      3\n",
      "9             10      2016-05-08     3.0          4      4\n"
     ]
    }
   ],
   "source": [
    "import pandas as pd\n",
    "df = pd.read_csv(\"transactions.csv\")\n",
    "df.rename(columns={\"Quantity\":\"Quant\"},inplace=True)\n",
    "print(df)"
   ]
  },
  {
   "cell_type": "code",
   "execution_count": 9,
   "id": "f20e1e72-1d43-4095-9f8e-ecf5ba615fcd",
   "metadata": {},
   "outputs": [
    {
     "name": "stdout",
     "output_type": "stream",
     "text": [
      "   TransactionID         TID  UserID  ProductID  Quant\n",
      "0              1  2010-08-21     7.0          2      1\n",
      "1              2  2011-05-26     3.0          4      1\n",
      "2              3  2011-06-16     3.0          3      1\n",
      "3              4  2012-08-26     1.0          2      3\n",
      "4              5  2013-06-06     2.0          4      1\n",
      "5              6  2013-12-23     2.0          5      6\n",
      "6              7  2013-12-30     3.0          4      1\n",
      "7              8  2014-04-24     NaN          2      3\n",
      "8              9  2015-04-24     7.0          4      3\n",
      "9             10  2016-05-08     3.0          4      4\n"
     ]
    }
   ],
   "source": [
    "import pandas as pd\n",
    "df = pd.read_csv(\"transactions.csv\")\n",
    "df.rename(columns={\"Quantity\":\"Quant\",\"TransactionDate\":\"TID\"},inplace=True)\n",
    "print(df)"
   ]
  },
  {
   "cell_type": "code",
   "execution_count": 1,
   "id": "64155b12-6d19-4d79-88f8-6f1392068520",
   "metadata": {},
   "outputs": [
    {
     "name": "stdout",
     "output_type": "stream",
     "text": [
      "today's date:\n",
      "2025-01-28 00:00:00\n"
     ]
    }
   ],
   "source": [
    "import pandas as pd\n",
    "from datetime import date\n",
    "now=pd.to_datetime(str(date.today()), format='%Y-%m-%d')\n",
    "print(\"today's date:\")\n",
    "print(now)"
   ]
  },
  {
   "cell_type": "code",
   "execution_count": 6,
   "id": "200b1b90-cec8-4fc2-96b6-d8bf6720678e",
   "metadata": {},
   "outputs": [
    {
     "name": "stdout",
     "output_type": "stream",
     "text": [
      "printing second row from transactions.csv file\n",
      "[2 '2011-05-26' 3.0 4 1]\n"
     ]
    }
   ],
   "source": [
    "import pandas as pd\n",
    "df = pd.read_csv(\"transactions.csv\")\n",
    "second_row=df.iloc[1].values\n",
    "print(\"printing second row from transactions.csv file\")\n",
    "print(second_row)"
   ]
  },
  {
   "cell_type": "markdown",
   "id": "1ef341be-662d-4598-95aa-eedd7dfb7675",
   "metadata": {},
   "source": [
    "# 2nd Question"
   ]
  },
  {
   "cell_type": "code",
   "execution_count": 8,
   "id": "11c18963-795e-43fa-8231-fa299f667c95",
   "metadata": {},
   "outputs": [
    {
     "name": "stdout",
     "output_type": "stream",
     "text": [
      "5\n"
     ]
    }
   ],
   "source": [
    "import pandas as pd\n",
    "df = pd.read_csv(\"transactions.csv\")\n",
    "print(len(df.columns))"
   ]
  },
  {
   "cell_type": "markdown",
   "id": "7348046a-3a63-47ba-89f2-30dd7a1fd604",
   "metadata": {},
   "source": [
    "# 3rd Number of records"
   ]
  },
  {
   "cell_type": "code",
   "execution_count": 9,
   "id": "a9cccba0-3c4b-4e22-ba01-33abf520283d",
   "metadata": {},
   "outputs": [
    {
     "name": "stdout",
     "output_type": "stream",
     "text": [
      "10\n"
     ]
    }
   ],
   "source": [
    "import pandas as pd\n",
    "df = pd.read_csv(\"transactions.csv\")\n",
    "print(len(df))"
   ]
  },
  {
   "cell_type": "code",
   "execution_count": null,
   "id": "77a02f9f-9eae-4823-9dd3-3d5c9d96633b",
   "metadata": {},
   "outputs": [],
   "source": [
    "4th "
   ]
  },
  {
   "cell_type": "markdown",
   "id": "40a4886e-e58b-4bc8-ac46-69c10d4eb8b5",
   "metadata": {},
   "source": [
    "# 4th row names"
   ]
  },
  {
   "cell_type": "code",
   "execution_count": 14,
   "id": "0fb4ae3d-9bb7-46c0-a5a6-678ed5a2ebbe",
   "metadata": {},
   "outputs": [
    {
     "name": "stdout",
     "output_type": "stream",
     "text": [
      "[0, 1, 2, 3, 4, 5, 6, 7, 8, 9]\n"
     ]
    }
   ],
   "source": [
    "import pandas as pd\n",
    "df = pd.read_csv(\"transactions.csv\")\n",
    "print(df.index.tolist())"
   ]
  },
  {
   "cell_type": "markdown",
   "id": "32c60397-f436-4074-bc0b-bb329cb53f6a",
   "metadata": {},
   "source": [
    "# 5th column names"
   ]
  },
  {
   "cell_type": "code",
   "execution_count": 15,
   "id": "6a74eb62-5d37-4f1f-9611-88caaed23856",
   "metadata": {},
   "outputs": [
    {
     "name": "stdout",
     "output_type": "stream",
     "text": [
      "['TransactionID', 'TransactionDate', 'UserID', 'ProductID', 'Quantity']\n"
     ]
    }
   ],
   "source": [
    "import pandas as pd\n",
    "df = pd.read_csv(\"transactions.csv\")\n",
    "print(df.columns.tolist())"
   ]
  },
  {
   "cell_type": "markdown",
   "id": "3cbb0d1f-3f10-4bcb-93cc-4f5a16f9a680",
   "metadata": {},
   "source": [
    "# 6th view top 10 records"
   ]
  },
  {
   "cell_type": "code",
   "execution_count": 16,
   "id": "9878c8c8-bdf5-4d4d-9d57-801648fd90f8",
   "metadata": {},
   "outputs": [
    {
     "name": "stdout",
     "output_type": "stream",
     "text": [
      "   TransactionID TransactionDate  UserID  ProductID  Quantity\n",
      "0              1      2010-08-21     7.0          2         1\n",
      "1              2      2011-05-26     3.0          4         1\n",
      "2              3      2011-06-16     3.0          3         1\n",
      "3              4      2012-08-26     1.0          2         3\n",
      "4              5      2013-06-06     2.0          4         1\n",
      "5              6      2013-12-23     2.0          5         6\n",
      "6              7      2013-12-30     3.0          4         1\n",
      "7              8      2014-04-24     NaN          2         3\n",
      "8              9      2015-04-24     7.0          4         3\n",
      "9             10      2016-05-08     3.0          4         4\n"
     ]
    }
   ],
   "source": [
    "import pandas as pd\n",
    "df = pd.read_csv(\"transactions.csv\")\n",
    "print(df.head(10))"
   ]
  },
  {
   "cell_type": "markdown",
   "id": "2222b3b2-b26a-474f-b52e-3d32710bec15",
   "metadata": {},
   "source": [
    "# 7th Change the name of column “ Quantity” to “Quant”"
   ]
  },
  {
   "cell_type": "code",
   "execution_count": 17,
   "id": "1e239f63-4771-4767-b6b9-12a8a9a4e3b6",
   "metadata": {},
   "outputs": [
    {
     "name": "stdout",
     "output_type": "stream",
     "text": [
      "   TransactionID TransactionDate  UserID  ProductID  Quant\n",
      "0              1      2010-08-21     7.0          2      1\n",
      "1              2      2011-05-26     3.0          4      1\n",
      "2              3      2011-06-16     3.0          3      1\n",
      "3              4      2012-08-26     1.0          2      3\n",
      "4              5      2013-06-06     2.0          4      1\n",
      "5              6      2013-12-23     2.0          5      6\n",
      "6              7      2013-12-30     3.0          4      1\n",
      "7              8      2014-04-24     NaN          2      3\n",
      "8              9      2015-04-24     7.0          4      3\n",
      "9             10      2016-05-08     3.0          4      4\n"
     ]
    }
   ],
   "source": [
    "import pandas as pd\n",
    "df = pd.read_csv(\"transactions.csv\")\n",
    "df.rename(columns={\"Quantity\":\"Quant\"},inplace=True)\n",
    "print(df)"
   ]
  },
  {
   "cell_type": "markdown",
   "id": "e86f2ae0-be53-40e8-8951-13114df863e3",
   "metadata": {},
   "source": [
    "# 8.Change the name of columns ProductID and UserID"
   ]
  },
  {
   "cell_type": "code",
   "execution_count": 18,
   "id": "a243f93a-4427-49ee-81f3-5119b7577f06",
   "metadata": {},
   "outputs": [
    {
     "name": "stdout",
     "output_type": "stream",
     "text": [
      "   TransactionID TransactionDate  UID  PID  Quantity\n",
      "0              1      2010-08-21  7.0    2         1\n",
      "1              2      2011-05-26  3.0    4         1\n",
      "2              3      2011-06-16  3.0    3         1\n",
      "3              4      2012-08-26  1.0    2         3\n",
      "4              5      2013-06-06  2.0    4         1\n",
      "5              6      2013-12-23  2.0    5         6\n",
      "6              7      2013-12-30  3.0    4         1\n",
      "7              8      2014-04-24  NaN    2         3\n",
      "8              9      2015-04-24  7.0    4         3\n",
      "9             10      2016-05-08  3.0    4         4\n"
     ]
    }
   ],
   "source": [
    "import pandas as pd\n",
    "df = pd.read_csv(\"transactions.csv\")\n",
    "df.rename(columns={\"ProductID\":\"PID\",\"UserID\":\"UID\"},inplace=True)\n",
    "print(df)"
   ]
  },
  {
   "cell_type": "markdown",
   "id": "66a85a60-d21f-4517-b8a8-eaf041853d53",
   "metadata": {},
   "source": [
    "# 9. Order the rows of transactions by TransactionId descending, if ascending then ascending=True"
   ]
  },
  {
   "cell_type": "code",
   "execution_count": 23,
   "id": "51eb651a-3482-4342-af64-848c21e282eb",
   "metadata": {},
   "outputs": [
    {
     "name": "stdout",
     "output_type": "stream",
     "text": [
      "   TransactionID TransactionDate  UserID  ProductID  Quantity\n",
      "9             10      2016-05-08     3.0          4         4\n",
      "8              9      2015-04-24     7.0          4         3\n",
      "7              8      2014-04-24     NaN          2         3\n",
      "6              7      2013-12-30     3.0          4         1\n",
      "5              6      2013-12-23     2.0          5         6\n",
      "4              5      2013-06-06     2.0          4         1\n",
      "3              4      2012-08-26     1.0          2         3\n",
      "2              3      2011-06-16     3.0          3         1\n",
      "1              2      2011-05-26     3.0          4         1\n",
      "0              1      2010-08-21     7.0          2         1\n",
      "   TransactionID TransactionDate  UserID  ProductID  Quantity\n",
      "0              1      2010-08-21     7.0          2         1\n",
      "1              2      2011-05-26     3.0          4         1\n",
      "2              3      2011-06-16     3.0          3         1\n",
      "3              4      2012-08-26     1.0          2         3\n",
      "4              5      2013-06-06     2.0          4         1\n",
      "5              6      2013-12-23     2.0          5         6\n",
      "6              7      2013-12-30     3.0          4         1\n",
      "7              8      2014-04-24     NaN          2         3\n",
      "8              9      2015-04-24     7.0          4         3\n",
      "9             10      2016-05-08     3.0          4         4\n"
     ]
    }
   ],
   "source": [
    "import pandas as pd\n",
    "df = pd.read_csv(\"transactions.csv\")\n",
    "print(df.sort_values(by='TransactionID', ascending=False))\n",
    "print(df.sort_values(by='TransactionID', ascending=True))"
   ]
  },
  {
   "cell_type": "markdown",
   "id": "cfc1dbe5-e530-42f6-93ce-f3dc953e5252",
   "metadata": {},
   "source": [
    "# 10. Order the rows of transactions by Quantity ascending, TransactionDate descending"
   ]
  },
  {
   "cell_type": "code",
   "execution_count": 25,
   "id": "dc41ca65-5b80-439f-b4bf-f39554e40234",
   "metadata": {},
   "outputs": [
    {
     "name": "stdout",
     "output_type": "stream",
     "text": [
      "   TransactionID TransactionDate  UserID  ProductID  Quantity\n",
      "9             10      2016-05-08     3.0          4         4\n",
      "8              9      2015-04-24     7.0          4         3\n",
      "7              8      2014-04-24     NaN          2         3\n",
      "6              7      2013-12-30     3.0          4         1\n",
      "5              6      2013-12-23     2.0          5         6\n",
      "4              5      2013-06-06     2.0          4         1\n",
      "3              4      2012-08-26     1.0          2         3\n",
      "2              3      2011-06-16     3.0          3         1\n",
      "1              2      2011-05-26     3.0          4         1\n",
      "0              1      2010-08-21     7.0          2         1\n",
      "   TransactionID TransactionDate  UserID  ProductID  Quantity\n",
      "0              1      2010-08-21     7.0          2         1\n",
      "1              2      2011-05-26     3.0          4         1\n",
      "2              3      2011-06-16     3.0          3         1\n",
      "4              5      2013-06-06     2.0          4         1\n",
      "6              7      2013-12-30     3.0          4         1\n",
      "3              4      2012-08-26     1.0          2         3\n",
      "7              8      2014-04-24     NaN          2         3\n",
      "8              9      2015-04-24     7.0          4         3\n",
      "9             10      2016-05-08     3.0          4         4\n",
      "5              6      2013-12-23     2.0          5         6\n"
     ]
    }
   ],
   "source": [
    "import pandas as pd\n",
    "df = pd.read_csv(\"transactions.csv\")\n",
    "print(df.sort_values(by='TransactionDate', ascending=False))\n",
    "print(df.sort_values(by='Quantity', ascending=True))"
   ]
  },
  {
   "cell_type": "markdown",
   "id": "3ce65e6b-cd0d-411b-acff-dc6d8241a1a0",
   "metadata": {},
   "source": [
    "# 11. Set the column order of Transactions as ProductID,Quantity, TransactionDate, TransactionID, UserID"
   ]
  },
  {
   "cell_type": "code",
   "execution_count": 28,
   "id": "826b14ce-afad-4e4e-95e6-6fe935dc9e50",
   "metadata": {},
   "outputs": [
    {
     "name": "stdout",
     "output_type": "stream",
     "text": [
      "   TransactionID TransactionDate  UserID  ProductID  Quantity\n",
      "0              1      2010-08-21     7.0          2         1\n",
      "1              2      2011-05-26     3.0          4         1\n",
      "2              3      2011-06-16     3.0          3         1\n",
      "4              5      2013-06-06     2.0          4         1\n",
      "6              7      2013-12-30     3.0          4         1\n",
      "3              4      2012-08-26     1.0          2         3\n",
      "7              8      2014-04-24     NaN          2         3\n",
      "8              9      2015-04-24     7.0          4         3\n",
      "9             10      2016-05-08     3.0          4         4\n",
      "5              6      2013-12-23     2.0          5         6\n"
     ]
    }
   ],
   "source": [
    "import pandas as pd\n",
    "df = pd.read_csv(\"transactions.csv\")\n",
    "print(df.sort_values(by='Quantity', ascending=True))"
   ]
  },
  {
   "cell_type": "markdown",
   "id": "a449c824-9e34-46d5-9cec-98e1250fd43e",
   "metadata": {},
   "source": [
    "# 12. Make UserID the first column of transactions"
   ]
  },
  {
   "cell_type": "code",
   "execution_count": null,
   "id": "cf50949a-2772-4e4a-9fdf-c4af0e7536a0",
   "metadata": {},
   "outputs": [],
   "source": [
    "import pandas as pd\n",
    "import numpy as np\n",
    "\n",
    "# Example dataset\n",
    "data = {\n",
    "    'Name': ['Alice', 'Bob', 'Charlie'],\n",
    "    'Age': [25, 30, 35],  # 2nd column\n",
    "    'City': ['New York', 'Los Angeles', 'Chicago']\n",
    "}\n",
    "\n",
    "# Create a DataFrame\n",
    "df = pd.DataFrame(data)\n",
    "\n",
    "# Extract the 2nd column as a Series\n",
    "second_column_series = df.iloc[:, 1]  # Index 1 corresponds to the 2nd column\n",
    "print(\"2nd column as Series:\")\n",
    "print(second_column_series)\n",
    "\n",
    "# Extract the 2nd column as a NumPy array\n",
    "second_column_array = df.iloc[:, 1].to_numpy()\n",
    "print(\"\\n2nd column as NumPy array:\")\n",
    "print(second_column_array)\n"
   ]
  },
  {
   "cell_type": "code",
   "execution_count": 33,
   "id": "4e7ae0d6-dcf7-48a5-97e8-3169dfc0db1c",
   "metadata": {},
   "outputs": [
    {
     "name": "stdout",
     "output_type": "stream",
     "text": [
      "   UserID  TransactionID TransactionDate  ProductID  Quantity\n",
      "0     7.0              1      2010-08-21          2         1\n",
      "1     3.0              2      2011-05-26          4         1\n",
      "2     3.0              3      2011-06-16          3         1\n",
      "3     1.0              4      2012-08-26          2         3\n",
      "4     2.0              5      2013-06-06          4         1\n",
      "5     2.0              6      2013-12-23          5         6\n",
      "6     3.0              7      2013-12-30          4         1\n",
      "7     NaN              8      2014-04-24          2         3\n",
      "8     7.0              9      2015-04-24          4         3\n",
      "9     3.0             10      2016-05-08          4         4\n"
     ]
    }
   ],
   "source": [
    "import pandas as pd\n",
    "df = pd.read_csv(\"transactions.csv\")\n",
    "c=['UserID']+[col for col in df.columns if col != 'UserID']\n",
    "print(df[c])"
   ]
  },
  {
   "cell_type": "markdown",
   "id": "8fad5b3c-0e74-4fb1-a975-e12507265aec",
   "metadata": {},
   "source": [
    "# 13. Extracting arrays from a Data Frame. Get the 2nd column"
   ]
  },
  {
   "cell_type": "code",
   "execution_count": 36,
   "id": "c9fe17e9-72b9-4f0b-ab12-80b8397dd43f",
   "metadata": {},
   "outputs": [
    {
     "name": "stdout",
     "output_type": "stream",
     "text": [
      "0    2010-08-21\n",
      "1    2011-05-26\n",
      "2    2011-06-16\n",
      "3    2012-08-26\n",
      "4    2013-06-06\n",
      "5    2013-12-23\n",
      "6    2013-12-30\n",
      "7    2014-04-24\n",
      "8    2015-04-24\n",
      "9    2016-05-08\n",
      "Name: TransactionDate, dtype: object\n"
     ]
    }
   ],
   "source": [
    "import pandas as pd\n",
    "df = pd.read_csv(\"transactions.csv\")\n",
    "print(df.TransactionDate)"
   ]
  },
  {
   "cell_type": "markdown",
   "id": "48d91556-6e5a-4d4d-95f6-90c3ec75939b",
   "metadata": {},
   "source": [
    "# 14. Get the ProductID Array"
   ]
  },
  {
   "cell_type": "code",
   "execution_count": 37,
   "id": "68c28f72-3ce5-4448-85a3-a68c6a4498a4",
   "metadata": {},
   "outputs": [
    {
     "name": "stdout",
     "output_type": "stream",
     "text": [
      "0    2\n",
      "1    4\n",
      "2    3\n",
      "3    2\n",
      "4    4\n",
      "5    5\n",
      "6    4\n",
      "7    2\n",
      "8    4\n",
      "9    4\n",
      "Name: ProductID, dtype: int64\n"
     ]
    }
   ],
   "source": [
    "import pandas as pd\n",
    "df = pd.read_csv(\"transactions.csv\")\n",
    "print(df.ProductID)"
   ]
  },
  {
   "cell_type": "markdown",
   "id": "5a1bbf4d-cd7a-4472-a2cb-7bffcfc63077",
   "metadata": {},
   "source": [
    "# 15. Get the ProductId array using the following variable x"
   ]
  },
  {
   "cell_type": "code",
   "execution_count": 39,
   "id": "0881de01-7134-497e-901b-6e67f2d5716a",
   "metadata": {},
   "outputs": [
    {
     "name": "stdout",
     "output_type": "stream",
     "text": [
      "0    2\n",
      "1    4\n",
      "2    3\n",
      "3    2\n",
      "4    4\n",
      "5    5\n",
      "6    4\n",
      "7    2\n",
      "8    4\n",
      "9    4\n",
      "Name: ProductID, dtype: int64\n"
     ]
    }
   ],
   "source": [
    "import pandas as pd\n",
    "df = pd.read_csv(\"transactions.csv\")\n",
    "print(df.ProductID)"
   ]
  },
  {
   "cell_type": "markdown",
   "id": "8599ac58-280f-424a-8020-ae56e59631b5",
   "metadata": {},
   "source": [
    "# 16. Subset rows 1, 3, and 6 (considering 0-based indexing, these are indices 0, 2, and 5)"
   ]
  },
  {
   "cell_type": "code",
   "execution_count": 5,
   "id": "98d18933-0020-454d-b354-f0204df023bf",
   "metadata": {},
   "outputs": [
    {
     "name": "stdout",
     "output_type": "stream",
     "text": [
      "   TransactionID TransactionDate  UserID  ProductID  Quantity\n",
      "0              1      2010-08-21     7.0          2         1\n",
      "2              3      2011-06-16     3.0          3         1\n",
      "5              6      2013-12-23     2.0          5         6\n"
     ]
    }
   ],
   "source": [
    "subset_16 = df.iloc[[0, 2, 5]]\n",
    "print(subset_16)"
   ]
  },
  {
   "cell_type": "markdown",
   "id": "b2ed217a-cc27-4ac9-9835-eace5b2157aa",
   "metadata": {},
   "source": [
    "# 17. Subset rows excluding 1, 3, and 6"
   ]
  },
  {
   "cell_type": "code",
   "execution_count": 6,
   "id": "e085b88e-3c97-493e-b87a-4fa8ff76bd1a",
   "metadata": {},
   "outputs": [
    {
     "name": "stdout",
     "output_type": "stream",
     "text": [
      "   TransactionID TransactionDate  UserID  ProductID  Quantity\n",
      "1              2      2011-05-26     3.0          4         1\n",
      "3              4      2012-08-26     1.0          2         3\n",
      "4              5      2013-06-06     2.0          4         1\n",
      "6              7      2013-12-30     3.0          4         1\n",
      "7              8      2014-04-24     NaN          2         3\n",
      "8              9      2015-04-24     7.0          4         3\n",
      "9             10      2016-05-08     3.0          4         4\n"
     ]
    }
   ],
   "source": [
    "subset_17 = df.drop([0, 2, 5])\n",
    "print(subset_17)"
   ]
  },
  {
   "cell_type": "markdown",
   "id": "d48e25e3-13b1-489a-98ee-9a14ce0f7740",
   "metadata": {},
   "source": [
    "# 18. Subset the first three rows"
   ]
  },
  {
   "cell_type": "code",
   "execution_count": 7,
   "id": "b2b83197-156d-489b-8a68-e2ccf0cb4ec9",
   "metadata": {},
   "outputs": [
    {
     "name": "stdout",
     "output_type": "stream",
     "text": [
      "   TransactionID TransactionDate  UserID  ProductID  Quantity\n",
      "0              1      2010-08-21     7.0          2         1\n",
      "1              2      2011-05-26     3.0          4         1\n",
      "2              3      2011-06-16     3.0          3         1\n"
     ]
    }
   ],
   "source": [
    "subset_18 = df.head(3)\n",
    "print(subset_18)"
   ]
  },
  {
   "cell_type": "markdown",
   "id": "ee16c11b-4f63-4018-b0d8-c55b2cc1b450",
   "metadata": {},
   "source": [
    "# 19. Subset the last two rows"
   ]
  },
  {
   "cell_type": "code",
   "execution_count": 9,
   "id": "48745513-1555-4a86-8ab6-b61f35410ccd",
   "metadata": {},
   "outputs": [
    {
     "name": "stdout",
     "output_type": "stream",
     "text": [
      "   TransactionID TransactionDate  UserID  ProductID  Quantity\n",
      "8              9      2015-04-24     7.0          4         3\n",
      "9             10      2016-05-08     3.0          4         4\n"
     ]
    }
   ],
   "source": [
    "subset_19 = df.tail(2)\n",
    "print(subset_19)"
   ]
  },
  {
   "cell_type": "markdown",
   "id": "c3fe9015-5f76-4762-8029-8e91f0e94843",
   "metadata": {},
   "source": [
    "# 20. Subset rows excluding the last two rows"
   ]
  },
  {
   "cell_type": "code",
   "execution_count": 12,
   "id": "8596dc5d-362d-4327-bf9d-fa7cce55b681",
   "metadata": {},
   "outputs": [
    {
     "name": "stdout",
     "output_type": "stream",
     "text": [
      "   TransactionID TransactionDate  UserID  ProductID  Quantity\n",
      "0              1      2010-08-21     7.0          2         1\n",
      "1              2      2011-05-26     3.0          4         1\n",
      "2              3      2011-06-16     3.0          3         1\n",
      "3              4      2012-08-26     1.0          2         3\n",
      "4              5      2013-06-06     2.0          4         1\n",
      "5              6      2013-12-23     2.0          5         6\n",
      "6              7      2013-12-30     3.0          4         1\n",
      "7              8      2014-04-24     NaN          2         3\n"
     ]
    }
   ],
   "source": [
    "subset_20 = df.iloc[:-2]\n",
    "print(subset_20)"
   ]
  },
  {
   "cell_type": "markdown",
   "id": "9cd2cf11-b854-45d4-b1be-c689edd70f99",
   "metadata": {},
   "source": [
    "# 21. Subset rows excluding the first three rows"
   ]
  },
  {
   "cell_type": "code",
   "execution_count": 11,
   "id": "1c27af6f-bcc7-4ea4-81dd-66188c764d2b",
   "metadata": {},
   "outputs": [
    {
     "name": "stdout",
     "output_type": "stream",
     "text": [
      "   TransactionID TransactionDate  UserID  ProductID  Quantity\n",
      "3              4      2012-08-26     1.0          2         3\n",
      "4              5      2013-06-06     2.0          4         1\n",
      "5              6      2013-12-23     2.0          5         6\n",
      "6              7      2013-12-30     3.0          4         1\n",
      "7              8      2014-04-24     NaN          2         3\n",
      "8              9      2015-04-24     7.0          4         3\n",
      "9             10      2016-05-08     3.0          4         4\n"
     ]
    }
   ],
   "source": [
    "subset_21 = df.iloc[3:]\n",
    "print(subset_21)"
   ]
  },
  {
   "cell_type": "markdown",
   "id": "b0e3d95b-541f-430e-8384-f4114b96720e",
   "metadata": {},
   "source": [
    "# 22. Subset rows where Quantity > 1"
   ]
  },
  {
   "cell_type": "code",
   "execution_count": 13,
   "id": "8c5809d4-4038-4d98-94d9-466a994138f0",
   "metadata": {},
   "outputs": [
    {
     "name": "stdout",
     "output_type": "stream",
     "text": [
      "   TransactionID TransactionDate  UserID  ProductID  Quantity\n",
      "3              4      2012-08-26     1.0          2         3\n",
      "5              6      2013-12-23     2.0          5         6\n",
      "7              8      2014-04-24     NaN          2         3\n",
      "8              9      2015-04-24     7.0          4         3\n",
      "9             10      2016-05-08     3.0          4         4\n"
     ]
    }
   ],
   "source": [
    "subset_22 = df[df['Quantity'] > 1]\n",
    "print(subset_22)"
   ]
  },
  {
   "cell_type": "markdown",
   "id": "cf4f121c-4169-44ce-8a15-ca7cbdac4bf1",
   "metadata": {},
   "source": [
    "# 23. Subset rows where UserID = 2"
   ]
  },
  {
   "cell_type": "code",
   "execution_count": 16,
   "id": "f507d400-87c0-4d16-9f09-b928364acd15",
   "metadata": {},
   "outputs": [
    {
     "name": "stdout",
     "output_type": "stream",
     "text": [
      "   TransactionID TransactionDate  UserID  ProductID  Quantity\n",
      "4              5      2013-06-06     2.0          4         1\n",
      "5              6      2013-12-23     2.0          5         6\n"
     ]
    }
   ],
   "source": [
    "subset_23 = df[df['UserID'] == 2]\n",
    "print(subset_23)"
   ]
  },
  {
   "cell_type": "markdown",
   "id": "d30e8bfa-bdf5-4aa4-a5ed-b702c8e86f9a",
   "metadata": {},
   "source": [
    "# 24. Subset rows where Quantity > 1 and UserID = 2"
   ]
  },
  {
   "cell_type": "code",
   "execution_count": 17,
   "id": "b09a34c0-4efe-49a6-ac7d-32d5c7f16526",
   "metadata": {},
   "outputs": [
    {
     "name": "stdout",
     "output_type": "stream",
     "text": [
      "   TransactionID TransactionDate  UserID  ProductID  Quantity\n",
      "5              6      2013-12-23     2.0          5         6\n"
     ]
    }
   ],
   "source": [
    "subset_24 = df[(df['Quantity'] > 1) & (df['UserID'] == 2)]\n",
    "print(subset_24)"
   ]
  },
  {
   "cell_type": "markdown",
   "id": "0588ac47-ca80-471f-916b-b014a767893f",
   "metadata": {},
   "source": [
    "# 25. Subset rows where Quantity + UserID > 3 (ignoring NaN in UserID)"
   ]
  },
  {
   "cell_type": "code",
   "execution_count": 18,
   "id": "0ac0dac6-4ac6-479a-97cc-3620efd4b456",
   "metadata": {},
   "outputs": [
    {
     "name": "stdout",
     "output_type": "stream",
     "text": [
      "   TransactionID TransactionDate  UserID  ProductID  Quantity\n",
      "0              1      2010-08-21     7.0          2         1\n",
      "1              2      2011-05-26     3.0          4         1\n",
      "2              3      2011-06-16     3.0          3         1\n",
      "3              4      2012-08-26     1.0          2         3\n",
      "5              6      2013-12-23     2.0          5         6\n",
      "6              7      2013-12-30     3.0          4         1\n",
      "8              9      2015-04-24     7.0          4         3\n",
      "9             10      2016-05-08     3.0          4         4\n"
     ]
    }
   ],
   "source": [
    "subset_25 = df[df['Quantity'] + df['UserID'].fillna(0) > 3]\n",
    "print(subset_25)"
   ]
  },
  {
   "cell_type": "markdown",
   "id": "dd493786-4339-479d-b034-79d0f624d903",
   "metadata": {},
   "source": [
    "# 26. Subset rows where external array 'foo' is True"
   ]
  },
  {
   "cell_type": "code",
   "execution_count": 23,
   "id": "4eb638bb-2bfc-4b6a-be8a-8d6e96716965",
   "metadata": {},
   "outputs": [
    {
     "name": "stdout",
     "output_type": "stream",
     "text": [
      "   TransactionID TransactionDate  UserID  ProductID  Quantity\n",
      "0              1      2010-08-21     7.0          2         1\n",
      "2              3      2011-06-16     3.0          3         1\n",
      "4              5      2013-06-06     2.0          4         1\n",
      "6              7      2013-12-30     3.0          4         1\n",
      "8              9      2015-04-24     7.0          4         3\n"
     ]
    }
   ],
   "source": [
    "foo = [True, False, True, False, True, False, True, False, True, False]\n",
    "subset_26 = df.loc[foo]\n",
    "print(subset_26)"
   ]
  },
  {
   "cell_type": "markdown",
   "id": "1c28101a-ac20-4924-a2ea-7f05ecba59c3",
   "metadata": {},
   "source": [
    "# 27. Subset rows where external array 'bar' is positive"
   ]
  },
  {
   "cell_type": "code",
   "execution_count": 25,
   "id": "25695083-5912-49fc-a62a-81ca3fe41c14",
   "metadata": {},
   "outputs": [
    {
     "name": "stdout",
     "output_type": "stream",
     "text": [
      "   TransactionID TransactionDate  UserID  ProductID  Quantity\n",
      "0              1      2010-08-21     7.0          2         1\n",
      "2              3      2011-06-16     3.0          3         1\n",
      "4              5      2013-06-06     2.0          4         1\n",
      "6              7      2013-12-30     3.0          4         1\n",
      "8              9      2015-04-24     7.0          4         3\n"
     ]
    }
   ],
   "source": [
    "bar = [1, -1, 2, -2, 3, -3, 4, -4, 5, -5]\n",
    "subset_27 = df.loc[[b > 0 for b in bar]]\n",
    "print(subset_27)\n"
   ]
  },
  {
   "cell_type": "markdown",
   "id": "57a732a9-dde0-4c2f-8099-73c5a6d0c34b",
   "metadata": {},
   "source": [
    "# 28. Subset rows where foo is True or bar is negative"
   ]
  },
  {
   "cell_type": "code",
   "execution_count": 27,
   "id": "208757ae-dc13-498b-9084-bbe66fd54d88",
   "metadata": {},
   "outputs": [
    {
     "name": "stdout",
     "output_type": "stream",
     "text": [
      "   TransactionID TransactionDate  UserID  ProductID  Quantity\n",
      "0              1      2010-08-21     7.0          2         1\n",
      "1              2      2011-05-26     3.0          4         1\n",
      "2              3      2011-06-16     3.0          3         1\n",
      "3              4      2012-08-26     1.0          2         3\n",
      "4              5      2013-06-06     2.0          4         1\n",
      "5              6      2013-12-23     2.0          5         6\n",
      "6              7      2013-12-30     3.0          4         1\n",
      "7              8      2014-04-24     NaN          2         3\n",
      "8              9      2015-04-24     7.0          4         3\n",
      "9             10      2016-05-08     3.0          4         4\n"
     ]
    }
   ],
   "source": [
    "subset_28 = df[[f or b < 0 for f, b in zip(foo, bar)]]\n",
    "print(subset_28)"
   ]
  },
  {
   "cell_type": "markdown",
   "id": "3548b3c3-e18b-4702-a1ab-b3100ff94ea5",
   "metadata": {},
   "source": [
    "# 29. Subset rows where foo is not True and bar is not negative"
   ]
  },
  {
   "cell_type": "code",
   "execution_count": 28,
   "id": "5ad70301-05a1-48ea-92a4-046bcbc097a8",
   "metadata": {},
   "outputs": [
    {
     "name": "stdout",
     "output_type": "stream",
     "text": [
      "Empty DataFrame\n",
      "Columns: [TransactionID, TransactionDate, UserID, ProductID, Quantity]\n",
      "Index: []\n"
     ]
    }
   ],
   "source": [
    "subset_29 = df[[not f and b >= 0 for f, b in zip(foo, bar)]]\n",
    "print(subset_29)"
   ]
  },
  {
   "cell_type": "markdown",
   "id": "9f8b4186-2235-4829-9011-f62e803a3751",
   "metadata": {},
   "source": [
    "# 30. Subset by columns 1 and 3 (0-based: columns at indices 0 and 2 are TransactionID and UserID)"
   ]
  },
  {
   "cell_type": "code",
   "execution_count": 29,
   "id": "9a250fb6-60d8-4804-bfd1-db1b390139e9",
   "metadata": {},
   "outputs": [
    {
     "name": "stdout",
     "output_type": "stream",
     "text": [
      "   TransactionID  UserID\n",
      "0              1     7.0\n",
      "1              2     3.0\n",
      "2              3     3.0\n",
      "3              4     1.0\n",
      "4              5     2.0\n",
      "5              6     2.0\n",
      "6              7     3.0\n",
      "7              8     NaN\n",
      "8              9     7.0\n",
      "9             10     3.0\n"
     ]
    }
   ],
   "source": [
    "subset_30 = df.iloc[:, [0, 2]]\n",
    "print(subset_30)"
   ]
  },
  {
   "cell_type": "markdown",
   "id": "9ab72d97-9ad9-4315-acea-e4383537deac",
   "metadata": {},
   "source": [
    "# 31. Subset by columns TransactionID and TransactionDate"
   ]
  },
  {
   "cell_type": "code",
   "execution_count": 30,
   "id": "16d7ab77-6485-43fc-b335-53f6eb606389",
   "metadata": {},
   "outputs": [
    {
     "name": "stdout",
     "output_type": "stream",
     "text": [
      "   TransactionID TransactionDate\n",
      "0              1      2010-08-21\n",
      "1              2      2011-05-26\n",
      "2              3      2011-06-16\n",
      "3              4      2012-08-26\n",
      "4              5      2013-06-06\n",
      "5              6      2013-12-23\n",
      "6              7      2013-12-30\n",
      "7              8      2014-04-24\n",
      "8              9      2015-04-24\n",
      "9             10      2016-05-08\n"
     ]
    }
   ],
   "source": [
    "subset_31 = df[['TransactionID', 'TransactionDate']]\n",
    "print(subset_31)"
   ]
  },
  {
   "cell_type": "markdown",
   "id": "74f371d5-706e-49ff-8966-0309fe51bca2",
   "metadata": {},
   "source": [
    "# 32. Subset by columns TransactionID and TransactionDate with logical operator (e.g., TransactionID > 3)"
   ]
  },
  {
   "cell_type": "code",
   "execution_count": 31,
   "id": "91a9cddb-caac-4c3a-9925-cf7b45198aed",
   "metadata": {},
   "outputs": [
    {
     "name": "stdout",
     "output_type": "stream",
     "text": [
      "   TransactionID TransactionDate\n",
      "3              4      2012-08-26\n",
      "4              5      2013-06-06\n",
      "5              6      2013-12-23\n",
      "6              7      2013-12-30\n",
      "7              8      2014-04-24\n",
      "8              9      2015-04-24\n",
      "9             10      2016-05-08\n"
     ]
    }
   ],
   "source": [
    "subset_32 = df[df['TransactionID'] > 3][['TransactionID', 'TransactionDate']]\n",
    "print(subset_32)"
   ]
  },
  {
   "cell_type": "markdown",
   "id": "91e47ac0-f319-42ef-ba93-78b779a6b278",
   "metadata": {},
   "source": [
    "# 33. Subset columns by a variable list of column names"
   ]
  },
  {
   "cell_type": "code",
   "execution_count": 32,
   "id": "97164639-e09e-429a-8829-7d8107fc67de",
   "metadata": {},
   "outputs": [
    {
     "name": "stdout",
     "output_type": "stream",
     "text": [
      "   TransactionID  ProductID\n",
      "0              1          2\n",
      "1              2          4\n",
      "2              3          3\n",
      "3              4          2\n",
      "4              5          4\n",
      "5              6          5\n",
      "6              7          4\n",
      "7              8          2\n",
      "8              9          4\n",
      "9             10          4\n"
     ]
    }
   ],
   "source": [
    "columns_list = ['TransactionID', 'ProductID']\n",
    "subset_33 = df[columns_list]\n",
    "print(subset_33)"
   ]
  },
  {
   "cell_type": "markdown",
   "id": "5ba76eda-3255-4c35-b8df-8c9d2114fe61",
   "metadata": {},
   "source": [
    "# 34. Subset columns excluding a variable list of column names"
   ]
  },
  {
   "cell_type": "code",
   "execution_count": 33,
   "id": "063f173e-33a5-4ff7-a6cc-63dc5f9f55f4",
   "metadata": {},
   "outputs": [
    {
     "name": "stdout",
     "output_type": "stream",
     "text": [
      "   TransactionID TransactionDate  ProductID\n",
      "0              1      2010-08-21          2\n",
      "1              2      2011-05-26          4\n",
      "2              3      2011-06-16          3\n",
      "3              4      2012-08-26          2\n",
      "4              5      2013-06-06          4\n",
      "5              6      2013-12-23          5\n",
      "6              7      2013-12-30          4\n",
      "7              8      2014-04-24          2\n",
      "8              9      2015-04-24          4\n",
      "9             10      2016-05-08          4\n"
     ]
    }
   ],
   "source": [
    "exclude_columns = ['UserID', 'Quantity']\n",
    "subset_34 = df.drop(columns=exclude_columns)\n",
    "print(subset_34)"
   ]
  },
  {
   "cell_type": "markdown",
   "id": "38af0f06-b128-4452-8dca-611eee540cbc",
   "metadata": {},
   "source": [
    "# 35. Inserting and updating values (e.g., update Quantity in row 0 to 5)"
   ]
  },
  {
   "cell_type": "code",
   "execution_count": 1,
   "id": "b4f033de-e416-44a1-a846-a7149777e86f",
   "metadata": {},
   "outputs": [
    {
     "ename": "NameError",
     "evalue": "name 'df' is not defined",
     "output_type": "error",
     "traceback": [
      "\u001b[0;31m---------------------------------------------------------------------------\u001b[0m",
      "\u001b[0;31mNameError\u001b[0m                                 Traceback (most recent call last)",
      "Cell \u001b[0;32mIn[1], line 1\u001b[0m\n\u001b[0;32m----> 1\u001b[0m \u001b[43mdf\u001b[49m\u001b[38;5;241m.\u001b[39mloc[\u001b[38;5;241m0\u001b[39m, \u001b[38;5;124m'\u001b[39m\u001b[38;5;124mQuantity\u001b[39m\u001b[38;5;124m'\u001b[39m] \u001b[38;5;241m=\u001b[39m \u001b[38;5;241m5\u001b[39m\n",
      "\u001b[0;31mNameError\u001b[0m: name 'df' is not defined"
     ]
    }
   ],
   "source": [
    "df.loc[0, 'Quantity'] = 5"
   ]
  },
  {
   "cell_type": "markdown",
   "id": "a83a9443-5a97-46a9-a8c3-c226836034d0",
   "metadata": {},
   "source": [
    "# 36. Convert the TransactionDate column to type Date"
   ]
  },
  {
   "cell_type": "code",
   "execution_count": 35,
   "id": "fd60f715-2abb-45ad-9830-fca7b454d9ae",
   "metadata": {},
   "outputs": [],
   "source": [
    "df['TransactionDate'] = pd.to_datetime(df['TransactionDate'])"
   ]
  },
  {
   "cell_type": "markdown",
   "id": "b01b898f-28e0-499e-bff7-427362338380",
   "metadata": {},
   "source": [
    "# 37. Insert a new column, Foo = UserID + ProductID"
   ]
  },
  {
   "cell_type": "code",
   "execution_count": 36,
   "id": "6be9b0a7-82dc-4528-8a88-79a322abcd5f",
   "metadata": {},
   "outputs": [],
   "source": [
    "df['Foo'] = df['UserID'].fillna(0) + df['ProductID']"
   ]
  },
  {
   "cell_type": "code",
   "execution_count": null,
   "id": "efb6b25b-519c-4d0d-adc2-306961303ffc",
   "metadata": {},
   "outputs": [],
   "source": []
  }
 ],
 "metadata": {
  "kernelspec": {
   "display_name": "Python 3 (ipykernel)",
   "language": "python",
   "name": "python3"
  },
  "language_info": {
   "codemirror_mode": {
    "name": "ipython",
    "version": 3
   },
   "file_extension": ".py",
   "mimetype": "text/x-python",
   "name": "python",
   "nbconvert_exporter": "python",
   "pygments_lexer": "ipython3",
   "version": "3.10.12"
  }
 },
 "nbformat": 4,
 "nbformat_minor": 5
}
