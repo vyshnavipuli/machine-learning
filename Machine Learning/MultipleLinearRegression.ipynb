{
 "cells": [
  {
   "cell_type": "markdown",
   "id": "b70a432c-3c27-428d-b2bd-e0a2464eb612",
   "metadata": {},
   "source": [
    "## Housing Case Study\n",
    "Problem Statement:\n",
    "\n",
    "Consider a real estate company that has a dataset containing the prices of properties in the Delhi region. It wishes to use the data to optimise the sale prices of the properties based on important factors such as area, bedrooms, parking, etc.\n",
    "\n",
    "Essentially, the company wants —\n",
    "\n",
    "To identify the variables affecting house prices, e.g. area, number of rooms, bathrooms, etc.\n",
    "\n",
    "To create a linear model that quantitatively relates house prices with variables such as number of rooms, area, number of bathrooms, etc.\n",
    "\n",
    "To know the accuracy of the model, i.e. how well these variables can predict house prices."
   ]
  },
  {
   "cell_type": "code",
   "execution_count": 142,
   "id": "e13c132d-b22a-4ada-b425-ace2d957fb5b",
   "metadata": {},
   "outputs": [
    {
     "data": {
      "text/html": [
       "<div>\n",
       "<style scoped>\n",
       "    .dataframe tbody tr th:only-of-type {\n",
       "        vertical-align: middle;\n",
       "    }\n",
       "\n",
       "    .dataframe tbody tr th {\n",
       "        vertical-align: top;\n",
       "    }\n",
       "\n",
       "    .dataframe thead th {\n",
       "        text-align: right;\n",
       "    }\n",
       "</style>\n",
       "<table border=\"1\" class=\"dataframe\">\n",
       "  <thead>\n",
       "    <tr style=\"text-align: right;\">\n",
       "      <th></th>\n",
       "      <th>price</th>\n",
       "      <th>area</th>\n",
       "      <th>bedrooms</th>\n",
       "      <th>bathrooms</th>\n",
       "      <th>stories</th>\n",
       "      <th>mainroad</th>\n",
       "      <th>guestroom</th>\n",
       "      <th>basement</th>\n",
       "      <th>hotwaterheating</th>\n",
       "      <th>airconditioning</th>\n",
       "      <th>parking</th>\n",
       "      <th>prefarea</th>\n",
       "      <th>furnishingstatus</th>\n",
       "    </tr>\n",
       "  </thead>\n",
       "  <tbody>\n",
       "    <tr>\n",
       "      <th>0</th>\n",
       "      <td>13300000</td>\n",
       "      <td>7420</td>\n",
       "      <td>4</td>\n",
       "      <td>2</td>\n",
       "      <td>3</td>\n",
       "      <td>yes</td>\n",
       "      <td>no</td>\n",
       "      <td>no</td>\n",
       "      <td>no</td>\n",
       "      <td>yes</td>\n",
       "      <td>2</td>\n",
       "      <td>yes</td>\n",
       "      <td>furnished</td>\n",
       "    </tr>\n",
       "    <tr>\n",
       "      <th>1</th>\n",
       "      <td>12250000</td>\n",
       "      <td>8960</td>\n",
       "      <td>4</td>\n",
       "      <td>4</td>\n",
       "      <td>4</td>\n",
       "      <td>yes</td>\n",
       "      <td>no</td>\n",
       "      <td>no</td>\n",
       "      <td>no</td>\n",
       "      <td>yes</td>\n",
       "      <td>3</td>\n",
       "      <td>no</td>\n",
       "      <td>furnished</td>\n",
       "    </tr>\n",
       "    <tr>\n",
       "      <th>2</th>\n",
       "      <td>12250000</td>\n",
       "      <td>9960</td>\n",
       "      <td>3</td>\n",
       "      <td>2</td>\n",
       "      <td>2</td>\n",
       "      <td>yes</td>\n",
       "      <td>no</td>\n",
       "      <td>yes</td>\n",
       "      <td>no</td>\n",
       "      <td>no</td>\n",
       "      <td>2</td>\n",
       "      <td>yes</td>\n",
       "      <td>semi-furnished</td>\n",
       "    </tr>\n",
       "    <tr>\n",
       "      <th>3</th>\n",
       "      <td>12215000</td>\n",
       "      <td>7500</td>\n",
       "      <td>4</td>\n",
       "      <td>2</td>\n",
       "      <td>2</td>\n",
       "      <td>yes</td>\n",
       "      <td>no</td>\n",
       "      <td>yes</td>\n",
       "      <td>no</td>\n",
       "      <td>yes</td>\n",
       "      <td>3</td>\n",
       "      <td>yes</td>\n",
       "      <td>furnished</td>\n",
       "    </tr>\n",
       "    <tr>\n",
       "      <th>4</th>\n",
       "      <td>11410000</td>\n",
       "      <td>7420</td>\n",
       "      <td>4</td>\n",
       "      <td>1</td>\n",
       "      <td>2</td>\n",
       "      <td>yes</td>\n",
       "      <td>yes</td>\n",
       "      <td>yes</td>\n",
       "      <td>no</td>\n",
       "      <td>yes</td>\n",
       "      <td>2</td>\n",
       "      <td>no</td>\n",
       "      <td>furnished</td>\n",
       "    </tr>\n",
       "  </tbody>\n",
       "</table>\n",
       "</div>"
      ],
      "text/plain": [
       "      price  area  bedrooms  bathrooms  stories mainroad guestroom basement  \\\n",
       "0  13300000  7420         4          2        3      yes        no       no   \n",
       "1  12250000  8960         4          4        4      yes        no       no   \n",
       "2  12250000  9960         3          2        2      yes        no      yes   \n",
       "3  12215000  7500         4          2        2      yes        no      yes   \n",
       "4  11410000  7420         4          1        2      yes       yes      yes   \n",
       "\n",
       "  hotwaterheating airconditioning  parking prefarea furnishingstatus  \n",
       "0              no             yes        2      yes        furnished  \n",
       "1              no             yes        3       no        furnished  \n",
       "2              no              no        2      yes   semi-furnished  \n",
       "3              no             yes        3      yes        furnished  \n",
       "4              no             yes        2       no        furnished  "
      ]
     },
     "execution_count": 142,
     "metadata": {},
     "output_type": "execute_result"
    }
   ],
   "source": [
    "#1 Import the dataset (Housing.csv) and look at the top five rows\n",
    "import pandas as pd\n",
    "df = pd.read_csv('Housing.csv')\n",
    "df.head()"
   ]
  },
  {
   "cell_type": "code",
   "execution_count": 143,
   "id": "0b429f32-4c68-43ad-8fd1-2fe90503fd88",
   "metadata": {},
   "outputs": [],
   "source": [
    "#2 Check the shape of the DataFrame (rows, columns)"
   ]
  },
  {
   "cell_type": "code",
   "execution_count": 144,
   "id": "83c9c301-9ac3-498f-b67f-0ded46cfe8fa",
   "metadata": {},
   "outputs": [],
   "source": [
    "from sklearn.model_selection import train_test_split\n",
    "from sklearn.linear_model import LinearRegression"
   ]
  },
  {
   "cell_type": "code",
   "execution_count": 145,
   "id": "adabaa16-d610-4f1c-a4f9-6f5153f5433f",
   "metadata": {},
   "outputs": [
    {
     "data": {
      "text/plain": [
       "(545, 13)"
      ]
     },
     "execution_count": 145,
     "metadata": {},
     "output_type": "execute_result"
    }
   ],
   "source": [
    "df.shape"
   ]
  },
  {
   "cell_type": "code",
   "execution_count": 146,
   "id": "661fff1a-6c1f-4876-9a5b-c886c0aad902",
   "metadata": {},
   "outputs": [],
   "source": [
    "#3 Look at the data types of the columns"
   ]
  },
  {
   "cell_type": "code",
   "execution_count": 147,
   "id": "b5256765-a24f-460e-9339-866e96fbe5ba",
   "metadata": {},
   "outputs": [
    {
     "name": "stdout",
     "output_type": "stream",
     "text": [
      "price                int64\n",
      "area                 int64\n",
      "bedrooms             int64\n",
      "bathrooms            int64\n",
      "stories              int64\n",
      "mainroad            object\n",
      "guestroom           object\n",
      "basement            object\n",
      "hotwaterheating     object\n",
      "airconditioning     object\n",
      "parking              int64\n",
      "prefarea            object\n",
      "furnishingstatus    object\n",
      "dtype: object\n"
     ]
    }
   ],
   "source": [
    "print(df.dtypes)"
   ]
  },
  {
   "cell_type": "code",
   "execution_count": 148,
   "id": "cb86b308-69c4-4aec-a9fd-6d74857468ec",
   "metadata": {},
   "outputs": [],
   "source": [
    "#4 Check for missing  values if any, replace with appropriate values"
   ]
  },
  {
   "cell_type": "code",
   "execution_count": 149,
   "id": "c713b736-f513-4c27-8ac3-e955b7ce7102",
   "metadata": {},
   "outputs": [
    {
     "name": "stdout",
     "output_type": "stream",
     "text": [
      "price               0\n",
      "area                0\n",
      "bedrooms            0\n",
      "bathrooms           0\n",
      "stories             0\n",
      "mainroad            0\n",
      "guestroom           0\n",
      "basement            0\n",
      "hotwaterheating     0\n",
      "airconditioning     0\n",
      "parking             0\n",
      "prefarea            0\n",
      "furnishingstatus    0\n",
      "dtype: int64\n"
     ]
    }
   ],
   "source": [
    "print(df.isnull().sum())"
   ]
  },
  {
   "cell_type": "code",
   "execution_count": 150,
   "id": "cd4c9984-46e4-4b74-a76e-e10ad26d2846",
   "metadata": {},
   "outputs": [],
   "source": [
    "df.fillna(\"siri\", inplace=True)  "
   ]
  },
  {
   "cell_type": "code",
   "execution_count": 151,
   "id": "e03d9624-c3db-4ae4-a7af-bf570b956c19",
   "metadata": {},
   "outputs": [],
   "source": [
    "#5 Prepare  X (independent variables) and y (dependent variable)"
   ]
  },
  {
   "cell_type": "code",
   "execution_count": 152,
   "id": "3d5bd0c5-8432-4943-95a0-0468e00d4937",
   "metadata": {},
   "outputs": [],
   "source": [
    "x=df[['area']]\n",
    "y=df['price']"
   ]
  },
  {
   "cell_type": "code",
   "execution_count": 153,
   "id": "41009947-bf5b-4e15-beb0-5cfc761d8b7d",
   "metadata": {},
   "outputs": [],
   "source": [
    "#6 Visualise the relationship between the independent variables and the depenedent variable using scatterplots"
   ]
  },
  {
   "cell_type": "code",
   "execution_count": 154,
   "id": "5533492e-4ada-43af-a531-d3e5507b9c99",
   "metadata": {},
   "outputs": [
    {
     "data": {
      "image/png": "[encoded data removed]",
      "text/plain": [
       "<Figure size 640x480 with 1 Axes>"
      ]
     },
     "metadata": {},
     "output_type": "display_data"
    }
   ],
   "source": [
    "import matplotlib.pyplot as plt\n",
    "plt.scatter(x,y)\n",
    "plt.xlabel(\"area\")\n",
    "plt.ylabel(\"price\")\n",
    "plt.title(\"area vs price\")\n",
    "plt.show()"
   ]
  },
  {
   "cell_type": "code",
   "execution_count": 155,
   "id": "19f90195-0633-4388-9e6e-9e82ffffd6a1",
   "metadata": {},
   "outputs": [],
   "source": [
    "#7 Encoding categorical data in X"
   ]
  },
  {
   "cell_type": "code",
   "execution_count": 156,
   "id": "69f97566-d107-4592-a5c5-e95097844599",
   "metadata": {},
   "outputs": [
    {
     "name": "stdout",
     "output_type": "stream",
     "text": [
      "        price  area  bedrooms  bathrooms  stories  mainroad guestroom  \\\n",
      "0    13300000  7420         4          2        3         1        no   \n",
      "1    12250000  8960         4          4        4         1        no   \n",
      "2    12250000  9960         3          2        2         1        no   \n",
      "3    12215000  7500         4          2        2         1        no   \n",
      "4    11410000  7420         4          1        2         1       yes   \n",
      "..        ...   ...       ...        ...      ...       ...       ...   \n",
      "540   1820000  3000         2          1        1         1        no   \n",
      "541   1767150  2400         3          1        1         0        no   \n",
      "542   1750000  3620         2          1        1         1        no   \n",
      "543   1750000  2910         3          1        1         0        no   \n",
      "544   1750000  3850         3          1        2         1        no   \n",
      "\n",
      "    basement hotwaterheating airconditioning  parking prefarea  \\\n",
      "0         no              no             yes        2      yes   \n",
      "1         no              no             yes        3       no   \n",
      "2        yes              no              no        2      yes   \n",
      "3        yes              no             yes        3      yes   \n",
      "4        yes              no             yes        2       no   \n",
      "..       ...             ...             ...      ...      ...   \n",
      "540      yes              no              no        2       no   \n",
      "541       no              no              no        0       no   \n",
      "542       no              no              no        0       no   \n",
      "543       no              no              no        0       no   \n",
      "544       no              no              no        0       no   \n",
      "\n",
      "    furnishingstatus  \n",
      "0          furnished  \n",
      "1          furnished  \n",
      "2     semi-furnished  \n",
      "3          furnished  \n",
      "4          furnished  \n",
      "..               ...  \n",
      "540      unfurnished  \n",
      "541   semi-furnished  \n",
      "542      unfurnished  \n",
      "543        furnished  \n",
      "544      unfurnished  \n",
      "\n",
      "[545 rows x 13 columns]\n"
     ]
    }
   ],
   "source": [
    "from sklearn.preprocessing import LabelEncoder\n",
    "lab=LabelEncoder()\n",
    "df['mainroad']=lab.fit_transform(df['mainroad'])\n",
    "print(df)"
   ]
  },
  {
   "cell_type": "code",
   "execution_count": 157,
   "id": "8b91fa2d-0728-422e-91bf-81c6375b65a4",
   "metadata": {},
   "outputs": [],
   "source": [
    "#8  Avoiding the Dummy Variable Trap"
   ]
  },
  {
   "cell_type": "code",
   "execution_count": null,
   "id": "15b2804a-2e8f-46ef-a0c8-7355398866bb",
   "metadata": {},
   "outputs": [],
   "source": []
  },
  {
   "cell_type": "code",
   "execution_count": 158,
   "id": "488d83f7-f328-4710-b8be-d60605f18f41",
   "metadata": {},
   "outputs": [],
   "source": [
    "#9 Apply feature scaling on numerical variables"
   ]
  },
  {
   "cell_type": "code",
   "execution_count": 159,
   "id": "5c6ecfd1-4ccf-456a-b953-9571cfb03f3b",
   "metadata": {},
   "outputs": [
    {
     "name": "stdout",
     "output_type": "stream",
     "text": [
      "        price  area  bedrooms  bathrooms  stories  mainroad  guestroom  \\\n",
      "0    13300000  7420         4          2        3         1          0   \n",
      "1    12250000  8960         4          4        4         1          0   \n",
      "2    12250000  9960         3          2        2         1          0   \n",
      "3    12215000  7500         4          2        2         1          0   \n",
      "4    11410000  7420         4          1        2         1          1   \n",
      "..        ...   ...       ...        ...      ...       ...        ...   \n",
      "540   1820000  3000         2          1        1         1          0   \n",
      "541   1767150  2400         3          1        1         0          0   \n",
      "542   1750000  3620         2          1        1         1          0   \n",
      "543   1750000  2910         3          1        1         0          0   \n",
      "544   1750000  3850         3          1        2         1          0   \n",
      "\n",
      "    basement hotwaterheating airconditioning  parking prefarea  \\\n",
      "0         no              no             yes        2      yes   \n",
      "1         no              no             yes        3       no   \n",
      "2        yes              no              no        2      yes   \n",
      "3        yes              no             yes        3      yes   \n",
      "4        yes              no             yes        2       no   \n",
      "..       ...             ...             ...      ...      ...   \n",
      "540      yes              no              no        2       no   \n",
      "541       no              no              no        0       no   \n",
      "542       no              no              no        0       no   \n",
      "543       no              no              no        0       no   \n",
      "544       no              no              no        0       no   \n",
      "\n",
      "    furnishingstatus  \n",
      "0          furnished  \n",
      "1          furnished  \n",
      "2     semi-furnished  \n",
      "3          furnished  \n",
      "4          furnished  \n",
      "..               ...  \n",
      "540      unfurnished  \n",
      "541   semi-furnished  \n",
      "542      unfurnished  \n",
      "543        furnished  \n",
      "544      unfurnished  \n",
      "\n",
      "[545 rows x 13 columns]\n"
     ]
    }
   ],
   "source": [
    "from sklearn.preprocessing import LabelEncoder\n",
    "lab=LabelEncoder()\n",
    "df['guestroom']=lab.fit_transform(df['guestroom'])\n",
    "print(df)"
   ]
  },
  {
   "cell_type": "code",
   "execution_count": 160,
   "id": "294dee83-147a-4281-84f8-8ff0deb7dcd2",
   "metadata": {},
   "outputs": [
    {
     "name": "stdout",
     "output_type": "stream",
     "text": [
      "        price  area  bedrooms  bathrooms  stories  mainroad  guestroom  \\\n",
      "0    13300000  7420         4          2        3         1          0   \n",
      "1    12250000  8960         4          4        4         1          0   \n",
      "2    12250000  9960         3          2        2         1          0   \n",
      "3    12215000  7500         4          2        2         1          0   \n",
      "4    11410000  7420         4          1        2         1          1   \n",
      "..        ...   ...       ...        ...      ...       ...        ...   \n",
      "540   1820000  3000         2          1        1         1          0   \n",
      "541   1767150  2400         3          1        1         0          0   \n",
      "542   1750000  3620         2          1        1         1          0   \n",
      "543   1750000  2910         3          1        1         0          0   \n",
      "544   1750000  3850         3          1        2         1          0   \n",
      "\n",
      "     basement hotwaterheating airconditioning  parking prefarea  \\\n",
      "0           0              no             yes        2      yes   \n",
      "1           0              no             yes        3       no   \n",
      "2           1              no              no        2      yes   \n",
      "3           1              no             yes        3      yes   \n",
      "4           1              no             yes        2       no   \n",
      "..        ...             ...             ...      ...      ...   \n",
      "540         1              no              no        2       no   \n",
      "541         0              no              no        0       no   \n",
      "542         0              no              no        0       no   \n",
      "543         0              no              no        0       no   \n",
      "544         0              no              no        0       no   \n",
      "\n",
      "    furnishingstatus  \n",
      "0          furnished  \n",
      "1          furnished  \n",
      "2     semi-furnished  \n",
      "3          furnished  \n",
      "4          furnished  \n",
      "..               ...  \n",
      "540      unfurnished  \n",
      "541   semi-furnished  \n",
      "542      unfurnished  \n",
      "543        furnished  \n",
      "544      unfurnished  \n",
      "\n",
      "[545 rows x 13 columns]\n"
     ]
    }
   ],
   "source": [
    "from sklearn.preprocessing import LabelEncoder\n",
    "lab=LabelEncoder()\n",
    "df['basement']=lab.fit_transform(df['basement'])\n",
    "print(df)"
   ]
  },
  {
   "cell_type": "code",
   "execution_count": 161,
   "id": "1092efff-9b48-4422-983d-824cfef842dc",
   "metadata": {},
   "outputs": [
    {
     "name": "stdout",
     "output_type": "stream",
     "text": [
      "        price  area  bedrooms  bathrooms  stories  mainroad  guestroom  \\\n",
      "0    13300000  7420         4          2        3         1          0   \n",
      "1    12250000  8960         4          4        4         1          0   \n",
      "2    12250000  9960         3          2        2         1          0   \n",
      "3    12215000  7500         4          2        2         1          0   \n",
      "4    11410000  7420         4          1        2         1          1   \n",
      "..        ...   ...       ...        ...      ...       ...        ...   \n",
      "540   1820000  3000         2          1        1         1          0   \n",
      "541   1767150  2400         3          1        1         0          0   \n",
      "542   1750000  3620         2          1        1         1          0   \n",
      "543   1750000  2910         3          1        1         0          0   \n",
      "544   1750000  3850         3          1        2         1          0   \n",
      "\n",
      "     basement  hotwaterheating airconditioning  parking prefarea  \\\n",
      "0           0                0             yes        2      yes   \n",
      "1           0                0             yes        3       no   \n",
      "2           1                0              no        2      yes   \n",
      "3           1                0             yes        3      yes   \n",
      "4           1                0             yes        2       no   \n",
      "..        ...              ...             ...      ...      ...   \n",
      "540         1                0              no        2       no   \n",
      "541         0                0              no        0       no   \n",
      "542         0                0              no        0       no   \n",
      "543         0                0              no        0       no   \n",
      "544         0                0              no        0       no   \n",
      "\n",
      "    furnishingstatus  \n",
      "0          furnished  \n",
      "1          furnished  \n",
      "2     semi-furnished  \n",
      "3          furnished  \n",
      "4          furnished  \n",
      "..               ...  \n",
      "540      unfurnished  \n",
      "541   semi-furnished  \n",
      "542      unfurnished  \n",
      "543        furnished  \n",
      "544      unfurnished  \n",
      "\n",
      "[545 rows x 13 columns]\n"
     ]
    }
   ],
   "source": [
    "from sklearn.preprocessing import LabelEncoder\n",
    "lab=LabelEncoder()\n",
    "df['hotwaterheating']=lab.fit_transform(df['hotwaterheating'])\n",
    "print(df)"
   ]
  },
  {
   "cell_type": "code",
   "execution_count": 162,
   "id": "cbf5d535-d204-4a68-bb4c-c0d7df376a0f",
   "metadata": {},
   "outputs": [
    {
     "name": "stdout",
     "output_type": "stream",
     "text": [
      "        price  area  bedrooms  bathrooms  stories  mainroad  guestroom  \\\n",
      "0    13300000  7420         4          2        3         1          0   \n",
      "1    12250000  8960         4          4        4         1          0   \n",
      "2    12250000  9960         3          2        2         1          0   \n",
      "3    12215000  7500         4          2        2         1          0   \n",
      "4    11410000  7420         4          1        2         1          1   \n",
      "..        ...   ...       ...        ...      ...       ...        ...   \n",
      "540   1820000  3000         2          1        1         1          0   \n",
      "541   1767150  2400         3          1        1         0          0   \n",
      "542   1750000  3620         2          1        1         1          0   \n",
      "543   1750000  2910         3          1        1         0          0   \n",
      "544   1750000  3850         3          1        2         1          0   \n",
      "\n",
      "     basement  hotwaterheating  airconditioning  parking prefarea  \\\n",
      "0           0                0                1        2      yes   \n",
      "1           0                0                1        3       no   \n",
      "2           1                0                0        2      yes   \n",
      "3           1                0                1        3      yes   \n",
      "4           1                0                1        2       no   \n",
      "..        ...              ...              ...      ...      ...   \n",
      "540         1                0                0        2       no   \n",
      "541         0                0                0        0       no   \n",
      "542         0                0                0        0       no   \n",
      "543         0                0                0        0       no   \n",
      "544         0                0                0        0       no   \n",
      "\n",
      "    furnishingstatus  \n",
      "0          furnished  \n",
      "1          furnished  \n",
      "2     semi-furnished  \n",
      "3          furnished  \n",
      "4          furnished  \n",
      "..               ...  \n",
      "540      unfurnished  \n",
      "541   semi-furnished  \n",
      "542      unfurnished  \n",
      "543        furnished  \n",
      "544      unfurnished  \n",
      "\n",
      "[545 rows x 13 columns]\n"
     ]
    }
   ],
   "source": [
    "from sklearn.preprocessing import LabelEncoder\n",
    "lab=LabelEncoder()\n",
    "df['airconditioning']=lab.fit_transform(df['airconditioning'])\n",
    "print(df)"
   ]
  },
  {
   "cell_type": "code",
   "execution_count": 163,
   "id": "8e051d17-0a70-438a-88f7-520b1058236b",
   "metadata": {},
   "outputs": [
    {
     "name": "stdout",
     "output_type": "stream",
     "text": [
      "        price  area  bedrooms  bathrooms  stories  mainroad  guestroom  \\\n",
      "0    13300000  7420         4          2        3         1          0   \n",
      "1    12250000  8960         4          4        4         1          0   \n",
      "2    12250000  9960         3          2        2         1          0   \n",
      "3    12215000  7500         4          2        2         1          0   \n",
      "4    11410000  7420         4          1        2         1          1   \n",
      "..        ...   ...       ...        ...      ...       ...        ...   \n",
      "540   1820000  3000         2          1        1         1          0   \n",
      "541   1767150  2400         3          1        1         0          0   \n",
      "542   1750000  3620         2          1        1         1          0   \n",
      "543   1750000  2910         3          1        1         0          0   \n",
      "544   1750000  3850         3          1        2         1          0   \n",
      "\n",
      "     basement  hotwaterheating  airconditioning  parking  prefarea  \\\n",
      "0           0                0                1        2         1   \n",
      "1           0                0                1        3         0   \n",
      "2           1                0                0        2         1   \n",
      "3           1                0                1        3         1   \n",
      "4           1                0                1        2         0   \n",
      "..        ...              ...              ...      ...       ...   \n",
      "540         1                0                0        2         0   \n",
      "541         0                0                0        0         0   \n",
      "542         0                0                0        0         0   \n",
      "543         0                0                0        0         0   \n",
      "544         0                0                0        0         0   \n",
      "\n",
      "    furnishingstatus  \n",
      "0          furnished  \n",
      "1          furnished  \n",
      "2     semi-furnished  \n",
      "3          furnished  \n",
      "4          furnished  \n",
      "..               ...  \n",
      "540      unfurnished  \n",
      "541   semi-furnished  \n",
      "542      unfurnished  \n",
      "543        furnished  \n",
      "544      unfurnished  \n",
      "\n",
      "[545 rows x 13 columns]\n"
     ]
    }
   ],
   "source": [
    "from sklearn.preprocessing import LabelEncoder\n",
    "lab=LabelEncoder()\n",
    "df['prefarea']=lab.fit_transform(df['prefarea'])\n",
    "print(df)"
   ]
  },
  {
   "cell_type": "code",
   "execution_count": 164,
   "id": "af08fb76-4720-40d0-90c0-76a1d1c2e1af",
   "metadata": {},
   "outputs": [
    {
     "name": "stdout",
     "output_type": "stream",
     "text": [
      "        price  area  bedrooms  bathrooms  stories  mainroad  guestroom  \\\n",
      "0    13300000  7420         4          2        3         1          0   \n",
      "1    12250000  8960         4          4        4         1          0   \n",
      "2    12250000  9960         3          2        2         1          0   \n",
      "3    12215000  7500         4          2        2         1          0   \n",
      "4    11410000  7420         4          1        2         1          1   \n",
      "..        ...   ...       ...        ...      ...       ...        ...   \n",
      "540   1820000  3000         2          1        1         1          0   \n",
      "541   1767150  2400         3          1        1         0          0   \n",
      "542   1750000  3620         2          1        1         1          0   \n",
      "543   1750000  2910         3          1        1         0          0   \n",
      "544   1750000  3850         3          1        2         1          0   \n",
      "\n",
      "     basement  hotwaterheating  airconditioning  parking  prefarea  \\\n",
      "0           0                0                1        2         1   \n",
      "1           0                0                1        3         0   \n",
      "2           1                0                0        2         1   \n",
      "3           1                0                1        3         1   \n",
      "4           1                0                1        2         0   \n",
      "..        ...              ...              ...      ...       ...   \n",
      "540         1                0                0        2         0   \n",
      "541         0                0                0        0         0   \n",
      "542         0                0                0        0         0   \n",
      "543         0                0                0        0         0   \n",
      "544         0                0                0        0         0   \n",
      "\n",
      "     furnishingstatus  \n",
      "0                   0  \n",
      "1                   0  \n",
      "2                   1  \n",
      "3                   0  \n",
      "4                   0  \n",
      "..                ...  \n",
      "540                 2  \n",
      "541                 1  \n",
      "542                 2  \n",
      "543                 0  \n",
      "544                 2  \n",
      "\n",
      "[545 rows x 13 columns]\n"
     ]
    }
   ],
   "source": [
    "from sklearn.preprocessing import LabelEncoder\n",
    "lab=LabelEncoder()\n",
    "df['furnishingstatus']=lab.fit_transform(df['furnishingstatus'])\n",
    "print(df)"
   ]
  },
  {
   "cell_type": "code",
   "execution_count": 165,
   "id": "46535223-71d7-43e4-b16b-7503a5e262b8",
   "metadata": {},
   "outputs": [],
   "source": [
    "from sklearn.preprocessing import MaxAbsScaler"
   ]
  },
  {
   "cell_type": "code",
   "execution_count": 166,
   "id": "ae57e1e9-0cf8-403b-bb7a-e4c335b64a69",
   "metadata": {},
   "outputs": [
    {
     "name": "stdout",
     "output_type": "stream",
     "text": [
      "        price  area  bedrooms  bathrooms  stories  mainroad  guestroom  \\\n",
      "0    13300000  7420         4          2        3         1          0   \n",
      "1    12250000  8960         4          4        4         1          0   \n",
      "2    12250000  9960         3          2        2         1          0   \n",
      "3    12215000  7500         4          2        2         1          0   \n",
      "4    11410000  7420         4          1        2         1          1   \n",
      "..        ...   ...       ...        ...      ...       ...        ...   \n",
      "540   1820000  3000         2          1        1         1          0   \n",
      "541   1767150  2400         3          1        1         0          0   \n",
      "542   1750000  3620         2          1        1         1          0   \n",
      "543   1750000  2910         3          1        1         0          0   \n",
      "544   1750000  3850         3          1        2         1          0   \n",
      "\n",
      "     basement  hotwaterheating  airconditioning  parking  prefarea  \\\n",
      "0           0                0                1        2         1   \n",
      "1           0                0                1        3         0   \n",
      "2           1                0                0        2         1   \n",
      "3           1                0                1        3         1   \n",
      "4           1                0                1        2         0   \n",
      "..        ...              ...              ...      ...       ...   \n",
      "540         1                0                0        2         0   \n",
      "541         0                0                0        0         0   \n",
      "542         0                0                0        0         0   \n",
      "543         0                0                0        0         0   \n",
      "544         0                0                0        0         0   \n",
      "\n",
      "     furnishingstatus  \n",
      "0                   0  \n",
      "1                   0  \n",
      "2                   1  \n",
      "3                   0  \n",
      "4                   0  \n",
      "..                ...  \n",
      "540                 2  \n",
      "541                 1  \n",
      "542                 2  \n",
      "543                 0  \n",
      "544                 2  \n",
      "\n",
      "[545 rows x 13 columns]\n",
      "[[1.         0.45802469 0.66666667 ... 0.66666667 1.         0.        ]\n",
      " [0.92105263 0.55308642 0.66666667 ... 1.         0.         0.        ]\n",
      " [0.92105263 0.61481481 0.5        ... 0.66666667 1.         0.5       ]\n",
      " ...\n",
      " [0.13157895 0.22345679 0.33333333 ... 0.         0.         1.        ]\n",
      " [0.13157895 0.17962963 0.5        ... 0.         0.         0.        ]\n",
      " [0.13157895 0.23765432 0.5        ... 0.         0.         1.        ]]\n"
     ]
    }
   ],
   "source": [
    "scaler=MaxAbsScaler()\n",
    "scaled_data=scaler.fit_transform(df)\n",
    "print(df)\n",
    "print(scaled_data)"
   ]
  },
  {
   "cell_type": "code",
   "execution_count": 167,
   "id": "1acf2436-7668-4eb9-9b9f-48d4a2976020",
   "metadata": {},
   "outputs": [],
   "source": [
    "#10 Split Data into Training and Testing Sets (70%-Train 30%-Test) - X_train, y_train, X_test, y_test"
   ]
  },
  {
   "cell_type": "code",
   "execution_count": 168,
   "id": "d804a5cf-bdd7-45ed-bc65-98c57f99526e",
   "metadata": {},
   "outputs": [
    {
     "name": "stdout",
     "output_type": "stream",
     "text": [
      "(545, 13)\n"
     ]
    }
   ],
   "source": [
    "x_train,x_test,y_train,y_test=train_test_split(x,y,test_size=0.3, random_state=42)\n",
    "print(df.shape)"
   ]
  },
  {
   "cell_type": "code",
   "execution_count": 169,
   "id": "d011419c-d0e5-4186-8e0d-b5f1d42d3dbd",
   "metadata": {},
   "outputs": [],
   "source": [
    "#11 Fitting Multiple Linear Regression to the Training"
   ]
  },
  {
   "cell_type": "code",
   "execution_count": 170,
   "id": "3b9b8a63-abe0-4ffa-be1c-e3f57a449f9a",
   "metadata": {},
   "outputs": [],
   "source": [
    "model=LinearRegression()\n",
    "x_train_fit=model.fit(x_train,y_train)"
   ]
  },
  {
   "cell_type": "code",
   "execution_count": 171,
   "id": "2c57f32b-58dc-4a80-839b-b3cfa29ac3c4",
   "metadata": {},
   "outputs": [],
   "source": [
    "#12 Predict on the train set and calculate the error = y_pred - y_train"
   ]
  },
  {
   "cell_type": "code",
   "execution_count": 172,
   "id": "07acd49e-4053-4353-8db0-72b963f4dd54",
   "metadata": {},
   "outputs": [],
   "source": [
    "y_pred = model.predict(x_train)"
   ]
  },
  {
   "cell_type": "code",
   "execution_count": 173,
   "id": "c860d4ab-eb3a-4d8c-a5a7-9ff5523e6600",
   "metadata": {},
   "outputs": [],
   "source": [
    "error=y_pred-y_train"
   ]
  },
  {
   "cell_type": "code",
   "execution_count": 174,
   "id": "af715af0-0022-4851-b3b0-ffd7898ef2ae",
   "metadata": {},
   "outputs": [],
   "source": [
    "#13  Residual plot - plot y_pred in x axis and errors in y axis"
   ]
  },
  {
   "cell_type": "code",
   "execution_count": 175,
   "id": "58b16241-189b-4664-8bf3-ac1ee7186365",
   "metadata": {},
   "outputs": [
    {
     "data": {
      "image/png": "[encoded data removed]",
      "text/plain": [
       "<Figure size 640x480 with 1 Axes>"
      ]
     },
     "metadata": {},
     "output_type": "display_data"
    }
   ],
   "source": [
    "import matplotlib.pyplot as plt\n",
    "plt.scatter(y_pred,error)\n",
    "plt.xlabel(\"y_pred\")\n",
    "plt.ylabel(\"error\")\n",
    "plt.title(\"y_pred vs error\")\n",
    "plt.show()"
   ]
  },
  {
   "cell_type": "code",
   "execution_count": 176,
   "id": "588a7ea5-6745-4930-9d37-8cb25ec48ddb",
   "metadata": {},
   "outputs": [],
   "source": [
    "#14  Predic on the test set"
   ]
  },
  {
   "cell_type": "code",
   "execution_count": 177,
   "id": "2e0cf6c8-09d3-4e9c-b56a-30d821f8d9ee",
   "metadata": {},
   "outputs": [],
   "source": [
    "y_pred_testset = model.predict(x_train)\n",
    "#print(y_pred_testset)"
   ]
  },
  {
   "cell_type": "code",
   "execution_count": 178,
   "id": "0e896fc1-af23-4842-b710-223d0982666e",
   "metadata": {},
   "outputs": [],
   "source": [
    "#15 Residual plot - plot y_pred in x axis and errors in y axis"
   ]
  },
  {
   "cell_type": "code",
   "execution_count": 179,
   "id": "6e5dd20f-c091-4cb3-a874-f9d48d60b8a3",
   "metadata": {},
   "outputs": [
    {
     "data": {
      "image/png": "[encoded data removed]",
      "text/plain": [
       "<Figure size 640x480 with 1 Axes>"
      ]
     },
     "metadata": {},
     "output_type": "display_data"
    }
   ],
   "source": [
    "import matplotlib.pyplot as plt\n",
    "plt.scatter(y_pred,error)\n",
    "plt.xlabel(\"y_pred\")\n",
    "plt.ylabel(\"error\")\n",
    "plt.title(\"y_pred vs error\")\n",
    "plt.show()"
   ]
  },
  {
   "cell_type": "code",
   "execution_count": 180,
   "id": "b670af9c-ac07-4f2f-9704-f9ab6c7441c9",
   "metadata": {},
   "outputs": [
    {
     "data": {
      "text/plain": [
       "[<matplotlib.lines.Line2D at 0x7fab51e4a900>]"
      ]
     },
     "execution_count": 180,
     "metadata": {},
     "output_type": "execute_result"
    },
    {
     "data": {
      "image/png": "[encoded data removed]",
      "text/plain": [
       "<Figure size 640x480 with 1 Axes>"
      ]
     },
     "metadata": {},
     "output_type": "display_data"
    }
   ],
   "source": [
    "plt.scatter(x_test,y_test)\n",
    "plt.plot(x_test,model.predict(x_test),color='red')"
   ]
  },
  {
   "cell_type": "code",
   "execution_count": 181,
   "id": "aabaab50-706c-413f-ab29-47ede66917b1",
   "metadata": {},
   "outputs": [],
   "source": [
    "#16 Print Mean Squared Error and R Squared Value"
   ]
  },
  {
   "cell_type": "code",
   "execution_count": 182,
   "id": "4d707176-6fa6-40f7-82d0-3ee34fea0c23",
   "metadata": {},
   "outputs": [],
   "source": [
    "from sklearn.metrics import r2_score\n"
   ]
  },
  {
   "cell_type": "code",
   "execution_count": 183,
   "id": "32d890bc-076e-4c89-93be-72a0b6de048a",
   "metadata": {},
   "outputs": [
    {
     "name": "stdout",
     "output_type": "stream",
     "text": [
      "3193989923757.6206\n",
      "0.2583140345296001\n"
     ]
    }
   ],
   "source": [
    "\n",
    "y_predict = model.predict(x_test)\n",
    "print(mean_squared_error(y_test, y_predict))\n",
    "print(r2_score(y_test,y_predict))"
   ]
  },
  {
   "cell_type": "code",
   "execution_count": 184,
   "id": "89e98b63-04b7-4a82-b324-6108cf4cd79a",
   "metadata": {},
   "outputs": [],
   "source": [
    "#17 Check  Adjusted R Squared Value(by selecting different no of input variables insted of all)"
   ]
  },
  {
   "cell_type": "code",
   "execution_count": null,
   "id": "c9d1de30-2799-4cd6-9331-33ec1944ad40",
   "metadata": {},
   "outputs": [],
   "source": []
  },
  {
   "cell_type": "code",
   "execution_count": null,
   "id": "cba8b127-c1a7-43c3-af36-3f1b37ee00c8",
   "metadata": {},
   "outputs": [],
   "source": []
  }
 ],
 "metadata": {
  "kernelspec": {
   "display_name": "Python 3 (ipykernel)",
   "language": "python",
   "name": "python3"
  },
  "language_info": {
   "codemirror_mode": {
    "name": "ipython",
    "version": 3
   },
   "file_extension": ".py",
   "mimetype": "text/x-python",
   "name": "python",
   "nbconvert_exporter": "python",
   "pygments_lexer": "ipython3",
   "version": "3.12.4"
  }
 },
 "nbformat": 4,
 "nbformat_minor": 5
}
